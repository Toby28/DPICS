{
  "nbformat": 4,
  "nbformat_minor": 0,
  "metadata": {
    "colab": {
      "provenance": []
    },
    "kernelspec": {
      "name": "python3",
      "display_name": "Python 3"
    },
    "language_info": {
      "name": "python"
    }
  },
  "cells": [
    {
      "cell_type": "markdown",
      "source": [
        "Get raw text data from xlsx"
      ],
      "metadata": {
        "id": "wjnRTb-wHncD"
      }
    },
    {
      "cell_type": "code",
      "source": [
        "import pandas as pd\n",
        "\n",
        "txt=pd.read_excel('111.xlsx',index_col=None)"
      ],
      "metadata": {
        "id": "aET07DQhrCBO",
        "colab": {
          "base_uri": "https://localhost:8080/",
          "height": 381
        },
        "outputId": "f66d106e-e215-40b8-8251-ecb6aa186197"
      },
      "execution_count": null,
      "outputs": [
        {
          "output_type": "error",
          "ename": "FileNotFoundError",
          "evalue": "ignored",
          "traceback": [
            "\u001b[0;31m---------------------------------------------------------------------------\u001b[0m",
            "\u001b[0;31mFileNotFoundError\u001b[0m                         Traceback (most recent call last)",
            "\u001b[0;32m<ipython-input-2-e9a715ffbd41>\u001b[0m in \u001b[0;36m<cell line: 3>\u001b[0;34m()\u001b[0m\n\u001b[1;32m      1\u001b[0m \u001b[0;32mimport\u001b[0m \u001b[0mpandas\u001b[0m \u001b[0;32mas\u001b[0m \u001b[0mpd\u001b[0m\u001b[0;34m\u001b[0m\u001b[0;34m\u001b[0m\u001b[0m\n\u001b[1;32m      2\u001b[0m \u001b[0;34m\u001b[0m\u001b[0m\n\u001b[0;32m----> 3\u001b[0;31m \u001b[0mtxt\u001b[0m\u001b[0;34m=\u001b[0m\u001b[0mpd\u001b[0m\u001b[0;34m.\u001b[0m\u001b[0mread_excel\u001b[0m\u001b[0;34m(\u001b[0m\u001b[0;34m'111.xlsx'\u001b[0m\u001b[0;34m,\u001b[0m\u001b[0mindex_col\u001b[0m\u001b[0;34m=\u001b[0m\u001b[0;32mNone\u001b[0m\u001b[0;34m)\u001b[0m\u001b[0;34m\u001b[0m\u001b[0;34m\u001b[0m\u001b[0m\n\u001b[0m",
            "\u001b[0;32m/usr/local/lib/python3.10/dist-packages/pandas/util/_decorators.py\u001b[0m in \u001b[0;36mwrapper\u001b[0;34m(*args, **kwargs)\u001b[0m\n\u001b[1;32m    209\u001b[0m                 \u001b[0;32melse\u001b[0m\u001b[0;34m:\u001b[0m\u001b[0;34m\u001b[0m\u001b[0;34m\u001b[0m\u001b[0m\n\u001b[1;32m    210\u001b[0m                     \u001b[0mkwargs\u001b[0m\u001b[0;34m[\u001b[0m\u001b[0mnew_arg_name\u001b[0m\u001b[0;34m]\u001b[0m \u001b[0;34m=\u001b[0m \u001b[0mnew_arg_value\u001b[0m\u001b[0;34m\u001b[0m\u001b[0;34m\u001b[0m\u001b[0m\n\u001b[0;32m--> 211\u001b[0;31m             \u001b[0;32mreturn\u001b[0m \u001b[0mfunc\u001b[0m\u001b[0;34m(\u001b[0m\u001b[0;34m*\u001b[0m\u001b[0margs\u001b[0m\u001b[0;34m,\u001b[0m \u001b[0;34m**\u001b[0m\u001b[0mkwargs\u001b[0m\u001b[0;34m)\u001b[0m\u001b[0;34m\u001b[0m\u001b[0;34m\u001b[0m\u001b[0m\n\u001b[0m\u001b[1;32m    212\u001b[0m \u001b[0;34m\u001b[0m\u001b[0m\n\u001b[1;32m    213\u001b[0m         \u001b[0;32mreturn\u001b[0m \u001b[0mcast\u001b[0m\u001b[0;34m(\u001b[0m\u001b[0mF\u001b[0m\u001b[0;34m,\u001b[0m \u001b[0mwrapper\u001b[0m\u001b[0;34m)\u001b[0m\u001b[0;34m\u001b[0m\u001b[0;34m\u001b[0m\u001b[0m\n",
            "\u001b[0;32m/usr/local/lib/python3.10/dist-packages/pandas/util/_decorators.py\u001b[0m in \u001b[0;36mwrapper\u001b[0;34m(*args, **kwargs)\u001b[0m\n\u001b[1;32m    329\u001b[0m                     \u001b[0mstacklevel\u001b[0m\u001b[0;34m=\u001b[0m\u001b[0mfind_stack_level\u001b[0m\u001b[0;34m(\u001b[0m\u001b[0;34m)\u001b[0m\u001b[0;34m,\u001b[0m\u001b[0;34m\u001b[0m\u001b[0;34m\u001b[0m\u001b[0m\n\u001b[1;32m    330\u001b[0m                 )\n\u001b[0;32m--> 331\u001b[0;31m             \u001b[0;32mreturn\u001b[0m \u001b[0mfunc\u001b[0m\u001b[0;34m(\u001b[0m\u001b[0;34m*\u001b[0m\u001b[0margs\u001b[0m\u001b[0;34m,\u001b[0m \u001b[0;34m**\u001b[0m\u001b[0mkwargs\u001b[0m\u001b[0;34m)\u001b[0m\u001b[0;34m\u001b[0m\u001b[0;34m\u001b[0m\u001b[0m\n\u001b[0m\u001b[1;32m    332\u001b[0m \u001b[0;34m\u001b[0m\u001b[0m\n\u001b[1;32m    333\u001b[0m         \u001b[0;31m# error: \"Callable[[VarArg(Any), KwArg(Any)], Any]\" has no\u001b[0m\u001b[0;34m\u001b[0m\u001b[0;34m\u001b[0m\u001b[0m\n",
            "\u001b[0;32m/usr/local/lib/python3.10/dist-packages/pandas/io/excel/_base.py\u001b[0m in \u001b[0;36mread_excel\u001b[0;34m(io, sheet_name, header, names, index_col, usecols, squeeze, dtype, engine, converters, true_values, false_values, skiprows, nrows, na_values, keep_default_na, na_filter, verbose, parse_dates, date_parser, thousands, decimal, comment, skipfooter, convert_float, mangle_dupe_cols, storage_options)\u001b[0m\n\u001b[1;32m    480\u001b[0m     \u001b[0;32mif\u001b[0m \u001b[0;32mnot\u001b[0m \u001b[0misinstance\u001b[0m\u001b[0;34m(\u001b[0m\u001b[0mio\u001b[0m\u001b[0;34m,\u001b[0m \u001b[0mExcelFile\u001b[0m\u001b[0;34m)\u001b[0m\u001b[0;34m:\u001b[0m\u001b[0;34m\u001b[0m\u001b[0;34m\u001b[0m\u001b[0m\n\u001b[1;32m    481\u001b[0m         \u001b[0mshould_close\u001b[0m \u001b[0;34m=\u001b[0m \u001b[0;32mTrue\u001b[0m\u001b[0;34m\u001b[0m\u001b[0;34m\u001b[0m\u001b[0m\n\u001b[0;32m--> 482\u001b[0;31m         \u001b[0mio\u001b[0m \u001b[0;34m=\u001b[0m \u001b[0mExcelFile\u001b[0m\u001b[0;34m(\u001b[0m\u001b[0mio\u001b[0m\u001b[0;34m,\u001b[0m \u001b[0mstorage_options\u001b[0m\u001b[0;34m=\u001b[0m\u001b[0mstorage_options\u001b[0m\u001b[0;34m,\u001b[0m \u001b[0mengine\u001b[0m\u001b[0;34m=\u001b[0m\u001b[0mengine\u001b[0m\u001b[0;34m)\u001b[0m\u001b[0;34m\u001b[0m\u001b[0;34m\u001b[0m\u001b[0m\n\u001b[0m\u001b[1;32m    483\u001b[0m     \u001b[0;32melif\u001b[0m \u001b[0mengine\u001b[0m \u001b[0;32mand\u001b[0m \u001b[0mengine\u001b[0m \u001b[0;34m!=\u001b[0m \u001b[0mio\u001b[0m\u001b[0;34m.\u001b[0m\u001b[0mengine\u001b[0m\u001b[0;34m:\u001b[0m\u001b[0;34m\u001b[0m\u001b[0;34m\u001b[0m\u001b[0m\n\u001b[1;32m    484\u001b[0m         raise ValueError(\n",
            "\u001b[0;32m/usr/local/lib/python3.10/dist-packages/pandas/io/excel/_base.py\u001b[0m in \u001b[0;36m__init__\u001b[0;34m(self, path_or_buffer, engine, storage_options)\u001b[0m\n\u001b[1;32m   1650\u001b[0m                 \u001b[0mext\u001b[0m \u001b[0;34m=\u001b[0m \u001b[0;34m\"xls\"\u001b[0m\u001b[0;34m\u001b[0m\u001b[0;34m\u001b[0m\u001b[0m\n\u001b[1;32m   1651\u001b[0m             \u001b[0;32melse\u001b[0m\u001b[0;34m:\u001b[0m\u001b[0;34m\u001b[0m\u001b[0;34m\u001b[0m\u001b[0m\n\u001b[0;32m-> 1652\u001b[0;31m                 ext = inspect_excel_format(\n\u001b[0m\u001b[1;32m   1653\u001b[0m                     \u001b[0mcontent_or_path\u001b[0m\u001b[0;34m=\u001b[0m\u001b[0mpath_or_buffer\u001b[0m\u001b[0;34m,\u001b[0m \u001b[0mstorage_options\u001b[0m\u001b[0;34m=\u001b[0m\u001b[0mstorage_options\u001b[0m\u001b[0;34m\u001b[0m\u001b[0;34m\u001b[0m\u001b[0m\n\u001b[1;32m   1654\u001b[0m                 )\n",
            "\u001b[0;32m/usr/local/lib/python3.10/dist-packages/pandas/io/excel/_base.py\u001b[0m in \u001b[0;36minspect_excel_format\u001b[0;34m(content_or_path, storage_options)\u001b[0m\n\u001b[1;32m   1523\u001b[0m         \u001b[0mcontent_or_path\u001b[0m \u001b[0;34m=\u001b[0m \u001b[0mBytesIO\u001b[0m\u001b[0;34m(\u001b[0m\u001b[0mcontent_or_path\u001b[0m\u001b[0;34m)\u001b[0m\u001b[0;34m\u001b[0m\u001b[0;34m\u001b[0m\u001b[0m\n\u001b[1;32m   1524\u001b[0m \u001b[0;34m\u001b[0m\u001b[0m\n\u001b[0;32m-> 1525\u001b[0;31m     with get_handle(\n\u001b[0m\u001b[1;32m   1526\u001b[0m         \u001b[0mcontent_or_path\u001b[0m\u001b[0;34m,\u001b[0m \u001b[0;34m\"rb\"\u001b[0m\u001b[0;34m,\u001b[0m \u001b[0mstorage_options\u001b[0m\u001b[0;34m=\u001b[0m\u001b[0mstorage_options\u001b[0m\u001b[0;34m,\u001b[0m \u001b[0mis_text\u001b[0m\u001b[0;34m=\u001b[0m\u001b[0;32mFalse\u001b[0m\u001b[0;34m\u001b[0m\u001b[0;34m\u001b[0m\u001b[0m\n\u001b[1;32m   1527\u001b[0m     ) as handle:\n",
            "\u001b[0;32m/usr/local/lib/python3.10/dist-packages/pandas/io/common.py\u001b[0m in \u001b[0;36mget_handle\u001b[0;34m(path_or_buf, mode, encoding, compression, memory_map, is_text, errors, storage_options)\u001b[0m\n\u001b[1;32m    863\u001b[0m         \u001b[0;32melse\u001b[0m\u001b[0;34m:\u001b[0m\u001b[0;34m\u001b[0m\u001b[0;34m\u001b[0m\u001b[0m\n\u001b[1;32m    864\u001b[0m             \u001b[0;31m# Binary mode\u001b[0m\u001b[0;34m\u001b[0m\u001b[0;34m\u001b[0m\u001b[0m\n\u001b[0;32m--> 865\u001b[0;31m             \u001b[0mhandle\u001b[0m \u001b[0;34m=\u001b[0m \u001b[0mopen\u001b[0m\u001b[0;34m(\u001b[0m\u001b[0mhandle\u001b[0m\u001b[0;34m,\u001b[0m \u001b[0mioargs\u001b[0m\u001b[0;34m.\u001b[0m\u001b[0mmode\u001b[0m\u001b[0;34m)\u001b[0m\u001b[0;34m\u001b[0m\u001b[0;34m\u001b[0m\u001b[0m\n\u001b[0m\u001b[1;32m    866\u001b[0m         \u001b[0mhandles\u001b[0m\u001b[0;34m.\u001b[0m\u001b[0mappend\u001b[0m\u001b[0;34m(\u001b[0m\u001b[0mhandle\u001b[0m\u001b[0;34m)\u001b[0m\u001b[0;34m\u001b[0m\u001b[0;34m\u001b[0m\u001b[0m\n\u001b[1;32m    867\u001b[0m \u001b[0;34m\u001b[0m\u001b[0m\n",
            "\u001b[0;31mFileNotFoundError\u001b[0m: [Errno 2] No such file or directory: '111.xlsx'"
          ]
        }
      ]
    },
    {
      "cell_type": "code",
      "source": [
        "import pandas as pd\n",
        "\n",
        "txt=pd.read_excel('Book1.xlsx',index_col=None)"
      ],
      "metadata": {
        "id": "-chIpFn4Z4LH"
      },
      "execution_count": null,
      "outputs": []
    },
    {
      "cell_type": "code",
      "source": [
        "lis=['2022001P_02_02282022']\n",
        "\n",
        "\n",
        "xls = pd.ExcelFile('111.xlsx')\n",
        "df1 = pd.read_excel(xls, 'Sheet1')"
      ],
      "metadata": {
        "id": "7tIJJInEEeAA"
      },
      "execution_count": null,
      "outputs": []
    },
    {
      "cell_type": "code",
      "source": [
        "df1 = txt"
      ],
      "metadata": {
        "id": "I5ZKoFmzaC1g"
      },
      "execution_count": null,
      "outputs": []
    },
    {
      "cell_type": "code",
      "source": [
        "### 2:speaker   3:text    4:label\n",
        "\n",
        "print(df1.iloc[:,1])"
      ],
      "metadata": {
        "colab": {
          "base_uri": "https://localhost:8080/"
        },
        "id": "imVA0bPiqkns",
        "outputId": "6e839553-9c8c-462f-d538-665cf65a57bb"
      },
      "execution_count": null,
      "outputs": [
        {
          "output_type": "stream",
          "name": "stdout",
          "text": [
            "0                                      How was your day?\n",
            "1                                      How was your day?\n",
            "2                                         There's pizza.\n",
            "3                 Don't mind bringing the chicken wings.\n",
            "4                                                Shrimp.\n",
            "                             ...                        \n",
            "753                      You have to do it consistently.\n",
            "754                                        Are you sure?\n",
            "755    Because I'm going to email her and verify beca...\n",
            "756                          And that's reading or math?\n",
            "757                              What about the reading?\n",
            "Name: autotransricpt, Length: 758, dtype: object\n"
          ]
        }
      ]
    },
    {
      "cell_type": "code",
      "source": [
        "import pickle\n",
        "sentence=[]\n",
        "label=[]\n",
        "strname='collect.pkl'\n",
        "label_parent=['UP','LP','RF','BD','IQ','DQ','IC','DC','NTA','TA','AN','NA']\n",
        "label_kid=[]\n",
        "\n",
        "for k in lis:\n",
        "  df = pd.read_excel(xls, k)\n",
        "\n",
        "  for i in range(len(df)):\n",
        "    if df.iloc[i,4] in res:\n",
        "    #print(df.iloc[i,3])\n",
        "    #print(df.iloc[i,4])\n",
        "      sentence.append(df.iloc[i,3])\n",
        "      label.append(res.index(df.iloc[i,4]))\n",
        "\n",
        "with open(strname, 'wb') as fp:\n",
        "  pickle.dump([sentence, label],fp)\n"
      ],
      "metadata": {
        "id": "3UY9caFer3im"
      },
      "execution_count": null,
      "outputs": []
    },
    {
      "cell_type": "code",
      "source": [
        "import pickle\n",
        "sentence=[]\n",
        "label=[]\n",
        "strname='collect.pkl'\n",
        "label_parent=['UP','LP','RF','BD','IQ','DQ','IC','DC','NTA','TA','AN','NA']\n",
        "label_kid=[]\n",
        "\n",
        "\n",
        "for i in range(len(df1)):\n",
        "    if df1.iloc[i,2] in label_parent:\n",
        "    #print(df.iloc[i,3])\n",
        "    #print(df.iloc[i,4])\n",
        "      sentence.append(df1.iloc[i,1])\n",
        "      label.append(label_parent.index(df1.iloc[i,2]))\n",
        "\n",
        "with open(strname, 'wb') as fp:\n",
        "  pickle.dump([sentence, label],fp)\n",
        "  print(label)"
      ],
      "metadata": {
        "colab": {
          "base_uri": "https://localhost:8080/"
        },
        "id": "p3k0M_wPajT3",
        "outputId": "e1decc6e-473a-4e4e-cae3-5fb360acde66"
      },
      "execution_count": null,
      "outputs": [
        {
          "output_type": "stream",
          "name": "stdout",
          "text": [
            "[4, 7, 5, 7, 5, 7, 6, 8, 4, 7, 7, 5, 5, 9, 9, 7, 7, 8, 5, 9, 7, 4, 6, 4, 5, 7, 5, 5, 9, 9, 9, 5, 0, 5, 1, 9, 0, 5, 9, 9, 9, 1, 9, 9, 9, 7, 4, 5, 5, 9, 9, 8, 9, 8, 1, 5, 5, 5, 9, 9, 9, 9, 6, 8, 6, 9, 5, 6, 9, 7, 6, 7, 6, 9, 7, 7, 7, 8, 6, 9, 7, 7, 7, 9, 5, 7, 1, 7, 9, 1, 7, 7, 9, 9, 9, 4, 5, 9, 9, 9, 9, 6, 9, 7, 0, 1, 9, 5, 7, 5, 5, 6, 6, 5, 9, 1, 7, 1, 9, 8, 9, 0, 0, 9, 9, 6, 9, 0, 0, 0, 7, 7, 6, 7, 1, 0, 4, 5, 8, 5, 8, 8, 7, 7, 7, 9, 9, 9, 9, 7, 7, 1, 9, 7, 9, 9, 9, 7, 0, 9, 5, 9, 9, 5, 1, 5, 5, 9, 9, 4, 9, 9, 7, 4, 8, 9, 9, 9, 9, 9, 9, 4, 6, 9, 4, 6, 1, 9, 4, 8, 6, 5, 9, 6, 9, 7, 7, 7, 5, 8, 4, 7, 7, 5, 8, 4, 7, 6, 7, 7, 4, 9, 8, 7, 4, 9, 9, 9, 9, 7, 2, 5, 9, 9, 7, 8, 0, 9, 6, 7, 0, 0, 0, 9, 4, 9, 9, 9, 0, 9, 0, 9, 0, 1, 5, 5, 5, 7, 9, 9, 9, 6, 7, 9, 5, 1, 8, 2, 9, 9, 9, 9, 6, 9, 9, 0, 0, 1, 5, 7, 5, 5, 4, 9, 7, 1, 0, 9, 5, 8, 1, 0, 9, 6, 5, 9, 9, 9, 9, 7, 9, 5, 0, 6, 5, 5, 5, 9, 0, 7, 9, 9, 5, 0, 5, 1, 9, 0, 5, 9, 9, 6, 9, 1, 9, 9, 8, 9, 7, 9, 7, 5, 5, 5, 8, 4, 8, 7, 5, 9, 9, 4, 5, 5, 9, 9, 5, 8, 9, 8, 6, 8, 1, 5, 5, 4, 2, 9, 9, 4, 2, 5, 7, 7, 7, 5, 9, 4, 8, 4, 7, 7, 7, 8, 9, 9, 5, 9, 9, 9, 7, 9, 9, 9, 7, 9, 5, 8, 8, 3, 9, 9, 7, 7, 9, 9, 8, 8, 7, 7, 8, 7, 7, 7, 8, 6, 4, 8, 8, 8, 8, 9, 8, 7, 9, 7, 7, 4, 6, 9, 9, 7, 7, 4, 4, 9, 5, 4, 4, 8, 7, 5, 5, 5, 9, 9, 9, 9, 4, 9, 9, 5, 9, 6, 5, 9, 4, 4, 5, 4, 9, 5, 5, 5, 9, 9, 9, 5, 7, 9, 7, 5, 9, 5, 9, 7, 8, 8, 8, 5, 9, 9, 5, 9, 7, 5, 9, 9, 5, 9, 9, 7, 5, 5, 9, 6, 5, 9, 9, 4, 9, 5, 8, 6, 9, 9, 6, 7, 9, 9, 9, 6, 9, 4, 9, 9, 9, 9, 9, 9, 9, 9, 9, 9, 9, 9, 9, 5, 9, 5, 5, 8, 9, 9, 9, 9, 9, 9, 7, 9, 6, 6, 9, 9, 7, 9, 6, 9, 8, 6, 9, 6, 6, 8, 8, 6, 7, 8, 9, 7, 7, 7, 8, 6, 5, 7, 4, 9, 4, 9, 8, 7, 9, 9, 9, 5, 7, 7, 7, 4, 4, 7, 9, 8, 8, 6, 8, 9, 6, 9, 8, 7, 6, 5, 6, 9, 5, 9, 9, 1, 4, 5, 5, 5, 4, 9, 9, 9, 9, 9, 6, 9, 6, 7, 7, 7, 9, 7, 6, 6, 4, 0, 9, 6, 6, 4, 9, 9, 9, 9, 7, 7, 9, 5, 8, 9, 7, 6, 9, 7, 2, 4, 4, 6, 9, 9, 5, 5, 5, 5, 9, 4, 4, 8, 6, 0, 0, 9, 5, 6, 6, 5, 6, 9, 5, 5, 5, 5, 5, 6, 9, 8, 8, 7, 9, 9, 7, 4, 5, 7, 9, 9, 6, 9, 9, 5, 7, 7, 5, 9, 7, 5, 7, 9, 7, 7, 8, 5, 5, 9, 9, 8, 9, 9, 9, 9, 8, 7, 9, 7, 5, 4, 5, 5, 5, 8, 4, 5, 9, 9, 5, 5, 9, 5, 7, 8, 5, 9, 7, 5, 9, 8, 4, 4, 5, 4, 5, 5, 4, 9, 6, 6, 6, 9, 7, 7, 9, 4, 9, 9, 9, 7, 9, 9, 5, 8, 4, 9, 9, 9, 7, 9, 4, 5, 5, 9, 6, 5, 4, 8, 9, 5, 9, 6, 5, 9, 4, 4]\n"
          ]
        }
      ]
    },
    {
      "cell_type": "code",
      "source": [
        "print(label[720:725])"
      ],
      "metadata": {
        "colab": {
          "base_uri": "https://localhost:8080/"
        },
        "id": "J7pO9RaLsxBL",
        "outputId": "ab89c27f-b1fc-49af-e1d5-da8bb1354d78"
      },
      "execution_count": null,
      "outputs": [
        {
          "output_type": "stream",
          "name": "stdout",
          "text": [
            "[6, 6, 6, 9, 7]\n"
          ]
        }
      ]
    },
    {
      "cell_type": "markdown",
      "source": [
        "end\n"
      ],
      "metadata": {
        "id": "OG8ACL7XqgV-"
      }
    },
    {
      "cell_type": "code",
      "source": [
        "lis=['2022001P_02_02282022','2022001P_05_03032022','2022001C_02_02282022','2022001C_05_03032022','2022002P_05_03162022','2022002P_02_03112022','2022002C_02_03112022','2022002C_05_03162022','2022003P_02_20220403','2022004C_01_20220408','2022004P_01_20220408','2022003C_05_20220411','2022004P_04_20220414']\n",
        "\n",
        "\n",
        "xls = pd.ExcelFile('111.xlsx')\n",
        "df1 = pd.read_excel(xls, '2022001P_02_02282022')"
      ],
      "metadata": {
        "id": "YrK5UxhXB9kK"
      },
      "execution_count": null,
      "outputs": []
    },
    {
      "cell_type": "code",
      "source": [],
      "metadata": {
        "id": "BNOFWgX_qfbA"
      },
      "execution_count": null,
      "outputs": []
    },
    {
      "cell_type": "code",
      "execution_count": null,
      "metadata": {
        "id": "MFw76SAMmZcK",
        "colab": {
          "base_uri": "https://localhost:8080/",
          "height": 184
        },
        "outputId": "4ad15b33-dd2f-4c0c-934f-af71631285b3"
      },
      "outputs": [
        {
          "output_type": "error",
          "ename": "FileNotFoundError",
          "evalue": "ignored",
          "traceback": [
            "\u001b[0;31m---------------------------------------------------------------------------\u001b[0m",
            "\u001b[0;31mFileNotFoundError\u001b[0m                         Traceback (most recent call last)",
            "\u001b[0;32m<ipython-input-11-2b8fdfce7572>\u001b[0m in \u001b[0;36m<cell line: 2>\u001b[0;34m()\u001b[0m\n\u001b[1;32m      1\u001b[0m \u001b[0;32mimport\u001b[0m \u001b[0mpickle\u001b[0m\u001b[0;34m\u001b[0m\u001b[0;34m\u001b[0m\u001b[0m\n\u001b[0;32m----> 2\u001b[0;31m \u001b[0mclips_sentence\u001b[0m\u001b[0;34m,\u001b[0m \u001b[0mclips_label\u001b[0m \u001b[0;34m=\u001b[0m \u001b[0mpickle\u001b[0m\u001b[0;34m.\u001b[0m\u001b[0mload\u001b[0m\u001b[0;34m(\u001b[0m\u001b[0mopen\u001b[0m\u001b[0;34m(\u001b[0m\u001b[0;34m'clip2test.pkl'\u001b[0m\u001b[0;34m,\u001b[0m \u001b[0;34m'rb'\u001b[0m\u001b[0;34m)\u001b[0m\u001b[0;34m)\u001b[0m\u001b[0;34m\u001b[0m\u001b[0;34m\u001b[0m\u001b[0m\n\u001b[0m",
            "\u001b[0;31mFileNotFoundError\u001b[0m: [Errno 2] No such file or directory: 'clip2test.pkl'"
          ]
        }
      ],
      "source": [
        "import pickle\n",
        "clips_sentence, clips_label = pickle.load(open('clip2test.pkl', 'rb'))"
      ]
    },
    {
      "cell_type": "code",
      "source": [
        "with open('Fruits.pkl', 'wb') as fp:\n",
        "  pickle.dump([clips_sentence, clips_label],fp)"
      ],
      "metadata": {
        "id": "BX8Ri6MSnDoC"
      },
      "execution_count": null,
      "outputs": []
    },
    {
      "cell_type": "code",
      "execution_count": null,
      "metadata": {
        "id": "NFzfRUiNoMpI"
      },
      "outputs": [],
      "source": [
        "\n",
        "import pickle\n",
        "clips_sentence, clips_label = pickle.load(open('Fruits.pkl', 'rb'))\n"
      ]
    },
    {
      "cell_type": "code",
      "source": [
        "import pickle\n",
        "sentence=[]\n",
        "label=[]\n",
        "\n",
        "\n",
        "for k in lis:\n",
        "  df = pd.read_excel(xls, k)\n",
        "  sentence=[]\n",
        "  label=[]\n",
        "  strname=k+'.pkl'\n",
        "  for i in range(len(df)):\n",
        "    print(txt.iloc[i,3])\n",
        "    print(txt.iloc[i,4])\n",
        "    #sentence.append(df.iloc[i,2])\n",
        "    #label.append(0)\n",
        "\n",
        "  #with open(strname, 'wb') as fp:\n",
        "    #pickle.dump([sentence, label],fp)\n",
        "\n"
      ],
      "metadata": {
        "id": "avorF3tTrV54"
      },
      "execution_count": null,
      "outputs": []
    },
    {
      "cell_type": "code",
      "source": [
        "import pickle\n",
        "sentence=[]\n",
        "label=[]\n",
        "strname='collect.pkl'\n",
        "res=['UP','LP','RF','BD','IQ','DQ','IC','DC','NTA','TA']\n",
        "\n",
        "for k in lis:\n",
        "  df = pd.read_excel(xls, k)\n",
        "\n",
        "  for i in range(len(df)):\n",
        "    if df.iloc[i,4] in res:\n",
        "    #print(df.iloc[i,3])\n",
        "    #print(df.iloc[i,4])\n",
        "      sentence.append(df.iloc[i,3])\n",
        "      label.append(res.index(df.iloc[i,4]))\n",
        "\n",
        "with open(strname, 'wb') as fp:\n",
        "  pickle.dump([sentence, label],fp)\n",
        "\n"
      ],
      "metadata": {
        "id": "9IeFXoo-h-Ug"
      },
      "execution_count": null,
      "outputs": []
    },
    {
      "cell_type": "code",
      "source": [
        "with open('test1.pkl', 'wb') as fp:\n",
        "  pickle.dump([sentence, label],fp)"
      ],
      "metadata": {
        "id": "7P4pEjwaE654"
      },
      "execution_count": null,
      "outputs": []
    },
    {
      "cell_type": "code",
      "source": [
        "lis=['2022001P_02_02282022','2022001P_05_03032022','2022001C_02_02282022','2022001C_05_03032022','2022002P_05_03162022','2022002P_02_03112022','2022002C_02_03112022','2022002C_05_03162022','2022003P_02_20220403','2022004C_01_20220408','2022004P_01_20220408','2022003C_05_20220411','2022004P_04_20220414']\n",
        "\n",
        "\n",
        "xls = pd.ExcelFile('111.xlsx')\n",
        "df1 = pd.read_excel(xls, '2022001P_05_03032022')"
      ],
      "metadata": {
        "id": "_wbKstjeZYt_"
      },
      "execution_count": null,
      "outputs": []
    },
    {
      "cell_type": "code",
      "source": [
        "res=['UP','LP','RF','BD','IQ','DQ','IC','DC','NTA','TA']\n",
        "\n",
        "for i in range(len(df1)):\n",
        "  print(df1.iloc[i,3])\n",
        "  if df1.iloc[i,4] in res:\n",
        "    print(df1.iloc[i,4])\n",
        "    print(res.index(df1.iloc[i,4]))\n",
        "    if df1.iloc[i,2]!='Mom':\n",
        "      print(1)\n",
        "  #print((df1.iloc[i,2]))\n",
        "\n"
      ],
      "metadata": {
        "colab": {
          "base_uri": "https://localhost:8080/"
        },
        "id": "tsGNTaxtZg3R",
        "outputId": "89d216cf-31e6-45e9-eb86-b006c11ead19"
      },
      "execution_count": null,
      "outputs": [
        {
          "output_type": "stream",
          "name": "stdout",
          "text": [
            "Did you press the camera?\n",
            "DQ\n",
            "5\n",
            "1\n",
            "Yeah, but it hasn't even loaded yet\n",
            "So how was your day?\n",
            "IQ\n",
            "4\n",
            "1\n",
            "It was good.\n",
            "Did you do your project?\n",
            "DQ\n",
            "5\n",
            "1\n",
            "Yeah. I was continuing on that project today in 4th period\n",
            "And that's the one that the pictures is due?\n",
            "DQ\n",
            "5\n",
            "1\n",
            "And what about the-\n",
            "The zoo project?\n",
            "Uh huh\n",
            "He was gonna call me, because like his phone wasn't working, but supposably like his dad got him the new iphone and then his phone just like shut down.\n",
            "So he had his phone fixed yesterday, so he said he was gonna call me.\n",
            "Where's my headphones?\n",
            "IQ\n",
            "4\n",
            "1\n",
            "Which ones?\n",
            "The ones that go to my iPad.\n",
            "I was looking for them, I couldn't find them.\n",
            "They was in your room the last time I saw them\n",
            "Exactly. But now no one knows where there.\n",
            "And when I use them, I put them back in the room;\n",
            "So, maybe one of the kids used them, or- \n",
            "Alright, so you got to do iReady\n",
            "IC\n",
            "6\n",
            "1\n",
            "I know\n",
            "Reading and math.\n",
            "IC\n",
            "6\n",
            "1\n",
            "Just Math\n",
            "Yeah, just Math.\n",
            "I did start a lesson, but then I failed the lesson cause I didn't understand. \n",
            "But, then now I get it because the people who stayed after school helped me out on it.\n",
            "So, I get it now. \n",
            "Okay, so let's go.\n",
            "IC\n",
            "6\n",
            "1\n",
            "I need you to-\n",
            "Hold on, let me just put on my shoe.\n",
            "Here\n",
            "TA\n",
            "9\n",
            "1\n",
            "Leave him alone.\n",
            "DC\n",
            "7\n",
            "1\n",
            "Take off your sweater.\n",
            "DC\n",
            "7\n",
            "1\n",
            "My laptop dead, I forgot where my charger at\n",
            "It should be over there where the rest of them are\n",
            "TA\n",
            "9\n",
            "1\n",
            "I looked, but its not\n",
            "Where are you going?\n",
            "IQ\n",
            "4\n",
            "1\n",
            "It's not over there \n",
            "It has to be there.\n",
            "TA\n",
            "9\n",
            "1\n",
            "Unless you took it upstairs.\n",
            "TA\n",
            "9\n",
            "1\n",
            "You know how you like to be charging the switch and stuff.\n",
            "TA\n",
            "9\n",
            "1\n",
            "Check your book bag.\n",
            "DC\n",
            "7\n",
            "1\n",
            "This is why I tell you guys to put everything away.\n",
            "TA\n",
            "9\n",
            "1\n",
            "Where its supposed to go.\n",
            "TA\n",
            "9\n",
            "1\n",
            "Did you find it?\n",
            "DQ\n",
            "5\n",
            "1\n",
            "Mhm mhm \n",
            "Great.\n",
            "NTA\n",
            "8\n",
            "1\n",
            "Where could it be?\n",
            "IQ\n",
            "4\n",
            "1\n",
            "I don't know.\n",
            "TA\n",
            "9\n",
            "1\n",
            "Me neither\n",
            "One day it was on the table; the next day its not there. \n",
            "Yeah, but you guys don't clean up after yourselves either.\n",
            "TA\n",
            "9\n",
            "1\n",
            "I don't know.\n",
            "TA\n",
            "9\n",
            "1\n",
            "Go check over there. Check under the couch. Check over there by the toys.\n",
            "DC\n",
            "7\n",
            "1\n",
            "I don't see you looking for it Josiah.\n"
          ]
        }
      ]
    },
    {
      "cell_type": "code",
      "source": [
        "sentence, label=pickle.load(open('2022001P_05_03032022.pkl', 'rb'))"
      ],
      "metadata": {
        "id": "cgjXF6yVqczu"
      },
      "execution_count": null,
      "outputs": []
    },
    {
      "cell_type": "code",
      "source": [
        "a_file = open(\"111.txt\", 'r+')\n",
        "file_contents = a_file.read()# a_file = open(\"Interaction_Lab_2022008C_20220512.txt\", 'r+')\n",
        "#file_contents = a_file.read()\n",
        "print(file_contents)"
      ],
      "metadata": {
        "colab": {
          "base_uri": "https://localhost:8080/"
        },
        "id": "REwlE7aCWdXv",
        "outputId": "74e07e40-dc1b-41ec-e83c-541710af5523"
      },
      "execution_count": null,
      "outputs": [
        {
          "output_type": "stream",
          "name": "stdout",
          "text": [
            "1\n",
            "2\n",
            "3 \n",
            "4\n",
            "\n"
          ]
        }
      ]
    },
    {
      "cell_type": "code",
      "source": [
        "from moviepy.video.io.ffmpeg_tools import ffmpeg_extract_subclip\n",
        "\n",
        "required_video_file = \"video456.mp4\"\n",
        "\n",
        "#with open(\"times.txt\") as f:\n",
        "  #times = f.readlines()\n",
        "\n",
        "#times = [x.strip() for x in times]\n",
        "\n",
        "#for time in times:\n",
        "  #starttime = int(time.split(\"-\")[0])\n",
        "  #endtime = int(time.split(\"-\")[1])\n",
        "  #ffmpeg_extract_subclip(required_video_file, starttime, endtime, targetname=str(times.index(time)+1)+\".mp4\")\n",
        "\n",
        "starttime = 0.5*60\n",
        "endtime = 1.5*60\n",
        "ffmpeg_extract_subclip(required_video_file, starttime, endtime, targetname=\"output123.mp4\")\n",
        "\n",
        "\n"
      ],
      "metadata": {
        "colab": {
          "base_uri": "https://localhost:8080/"
        },
        "id": "eZegAfQapnZN",
        "outputId": "7dc3ba8b-ddad-4847-ab58-adec52e43d6e"
      },
      "execution_count": null,
      "outputs": [
        {
          "output_type": "stream",
          "name": "stdout",
          "text": [
            "\n",
            "[MoviePy] Running:\n",
            ">>> /usr/local/lib/python3.7/dist-packages/imageio_ffmpeg/binaries/ffmpeg-linux64-v4.2.2 -y -i video456.mp4 -ss 30.00 -t 60.00 -vcodec copy -acodec copy output123.mp4\n",
            "... command successful.\n"
          ]
        }
      ]
    },
    {
      "cell_type": "code",
      "source": [
        "from moviepy.video.io.ffmpeg_tools import ffmpeg_extract_subclip\n",
        "\n",
        "import pandas as pd\n",
        "required_video_file = \"video456.mp4\"\n",
        "\n",
        "\n",
        "time_start = [1150,4150,5854,12440,13196]\n",
        "time_end=[2660,5818,12270,13062,17130]\n",
        "\n",
        "for time in range(len(time_start)):\n",
        "  strname=\"tp\"+str(time)+\".mp4\"\n",
        "  ffmpeg_extract_subclip(required_video_file, time_start[i], time_end[i], targetname=strname)\n",
        "\n",
        "#starttime = 0.5*60\n",
        "#endtime = 1.5*60\n",
        "#ffmpeg_extract_subclip(required_video_file, starttime, endtime, targetname=\"output123.mp4\")\n",
        "\n"
      ],
      "metadata": {
        "colab": {
          "base_uri": "https://localhost:8080/"
        },
        "id": "ob2V6dNMmotH",
        "outputId": "6a71d097-2817-4491-fc5e-59d3de88e1a0"
      },
      "execution_count": null,
      "outputs": [
        {
          "output_type": "stream",
          "name": "stdout",
          "text": [
            "\n",
            "[MoviePy] Running:\n",
            ">>> /usr/local/lib/python3.7/dist-packages/imageio_ffmpeg/binaries/ffmpeg-linux64-v4.2.2 -y -i video456.mp4 -ss 1150.00 -t 1510.00 -vcodec copy -acodec copy tp0.mp4\n",
            "... command successful.\n",
            "\n",
            "[MoviePy] Running:\n",
            ">>> /usr/local/lib/python3.7/dist-packages/imageio_ffmpeg/binaries/ffmpeg-linux64-v4.2.2 -y -i video456.mp4 -ss 1150.00 -t 1510.00 -vcodec copy -acodec copy tp1.mp4\n",
            "... command successful.\n",
            "\n",
            "[MoviePy] Running:\n",
            ">>> /usr/local/lib/python3.7/dist-packages/imageio_ffmpeg/binaries/ffmpeg-linux64-v4.2.2 -y -i video456.mp4 -ss 1150.00 -t 1510.00 -vcodec copy -acodec copy tp2.mp4\n",
            "... command successful.\n",
            "\n",
            "[MoviePy] Running:\n",
            ">>> /usr/local/lib/python3.7/dist-packages/imageio_ffmpeg/binaries/ffmpeg-linux64-v4.2.2 -y -i video456.mp4 -ss 1150.00 -t 1510.00 -vcodec copy -acodec copy tp3.mp4\n",
            "... command successful.\n",
            "\n",
            "[MoviePy] Running:\n",
            ">>> /usr/local/lib/python3.7/dist-packages/imageio_ffmpeg/binaries/ffmpeg-linux64-v4.2.2 -y -i video456.mp4 -ss 1150.00 -t 1510.00 -vcodec copy -acodec copy tp4.mp4\n",
            "... command successful.\n"
          ]
        }
      ]
    },
    {
      "cell_type": "code",
      "source": [
        "!pip install imageio-ffmpeg"
      ],
      "metadata": {
        "colab": {
          "base_uri": "https://localhost:8080/"
        },
        "id": "f1vLwwmetNh5",
        "outputId": "36f52b05-e146-4168-8768-92e9003356b1"
      },
      "execution_count": null,
      "outputs": [
        {
          "output_type": "stream",
          "name": "stdout",
          "text": [
            "Looking in indexes: https://pypi.org/simple, https://us-python.pkg.dev/colab-wheels/public/simple/\n",
            "Collecting imageio-ffmpeg\n",
            "  Downloading imageio_ffmpeg-0.4.7-py3-none-manylinux2010_x86_64.whl (26.9 MB)\n",
            "\u001b[K     |████████████████████████████████| 26.9 MB 84.1 MB/s \n",
            "\u001b[?25hInstalling collected packages: imageio-ffmpeg\n",
            "Successfully installed imageio-ffmpeg-0.4.7\n"
          ]
        }
      ]
    },
    {
      "cell_type": "code",
      "source": [
        "lis=['2022001P_02_02282022']\n",
        "\n",
        "\n",
        "xls = pd.ExcelFile('tep.xlsx')\n",
        "df1 = pd.read_excel(xls, 'tep')\n"
      ],
      "metadata": {
        "id": "J3cr3DdqsU2W"
      },
      "execution_count": null,
      "outputs": []
    },
    {
      "cell_type": "code",
      "source": [
        "dic={\"neutral\":0,\n",
        "     \"angry\":1,\n",
        "     \"sad\":2,\n",
        "     \"fear\":3,\n",
        "     \"ps\":4,\n",
        "     \"happy\":5,\n",
        "     \"disgust\":6}\n",
        "\n",
        "import numpy as np\n",
        "\n",
        "res=np.zeros((7,7),dtype=np.int)\n",
        "\n",
        "for i in range(len(df1)):\n",
        "  #print(i)\n",
        "  res[dic[df1.iloc[i,1]],dic[df1.iloc[i,2]]]=res[dic[df1.iloc[i,1]],dic[df1.iloc[i,2]]]+1\n",
        "\n",
        "print(len(df1))\n",
        "xls = pd.ExcelFile('tep001.xlsx')\n",
        "df1 = pd.read_excel(xls, 'tep001')\n",
        "\n",
        "for i in range(len(df1)):\n",
        "  #print(i)\n",
        "  res[dic[df1.iloc[i,1]],dic[df1.iloc[i,2]]]=res[dic[df1.iloc[i,1]],dic[df1.iloc[i,2]]]+1\n",
        "\n",
        "print(len(df1))\n",
        "xls = pd.ExcelFile('tep002.xlsx')\n",
        "df1 = pd.read_excel(xls, 'tep002')\n",
        "\n",
        "for i in range(len(df1)):\n",
        "  #print(i)\n",
        "  res[dic[df1.iloc[i,1]],dic[df1.iloc[i,2]]]=res[dic[df1.iloc[i,1]],dic[df1.iloc[i,2]]]+1\n",
        "\n",
        "print(len(df1))\n",
        "print(res)\n",
        "print(res[:,0])"
      ],
      "metadata": {
        "colab": {
          "base_uri": "https://localhost:8080/"
        },
        "id": "bjKmjiBwshoN",
        "outputId": "7feeff23-7ed5-4dc1-98e9-0f2a3f44143d"
      },
      "execution_count": null,
      "outputs": [
        {
          "output_type": "stream",
          "name": "stderr",
          "text": [
            "<ipython-input-15-29c5b3e5bb5c>:11: DeprecationWarning: `np.int` is a deprecated alias for the builtin `int`. To silence this warning, use `int` by itself. Doing this will not modify any behavior and is safe. When replacing `np.int`, you may wish to use e.g. `np.int64` or `np.int32` to specify the precision. If you wish to review your current use, check the release note link for additional information.\n",
            "Deprecated in NumPy 1.20; for more details and guidance: https://numpy.org/devdocs/release/1.20.0-notes.html#deprecations\n",
            "  res=np.zeros((7,7),dtype=np.int)\n"
          ]
        },
        {
          "output_type": "stream",
          "name": "stdout",
          "text": [
            "467\n",
            "958\n",
            "1479\n",
            "[[1563   20    0    5   15   13    3]\n",
            " [  35    7    0    6    2    3    0]\n",
            " [ 120    1   56    8    3    1    0]\n",
            " [ 291    3    0  265    9    0    0]\n",
            " [ 178    2    1   11  123    0    2]\n",
            " [  86    1    1    3    0   35    0]\n",
            " [  20    0    0    0    1    0   11]]\n",
            "[1563   35  120  291  178   86   20]\n"
          ]
        }
      ]
    },
    {
      "cell_type": "code",
      "source": [
        "print(sum(res[:,0]))"
      ],
      "metadata": {
        "colab": {
          "base_uri": "https://localhost:8080/"
        },
        "id": "gkEftvCW0Gw7",
        "outputId": "61c1e62a-8698-42ca-d334-805dc01175a4"
      },
      "execution_count": null,
      "outputs": [
        {
          "output_type": "stream",
          "name": "stdout",
          "text": [
            "2293\n"
          ]
        }
      ]
    },
    {
      "cell_type": "code",
      "source": [
        "dic={\"neutral\":0,\n",
        "     \"angry\":1,\n",
        "     \"sad\":2,\n",
        "     \"fear\":3,\n",
        "     \"ps\":4,\n",
        "     \"happy\":5,\n",
        "     \"disgust\":6,\n",
        "     \"surprise\":4,\n",
        "     \"neutral/surprise\":0}\n",
        "\n",
        "import numpy as np\n",
        "import pandas as pd\n",
        "res1=np.zeros((7,7),dtype=np.int)\n",
        "res2=np.zeros((7,7),dtype=np.int)\n",
        "xls = pd.ExcelFile('002family.xlsx')\n",
        "df1 = pd.read_excel(xls, 'Sheet1')\n",
        "print(df1.iloc[0,:])\n",
        "print(df1.iloc[0,3])\n",
        "print(df1.iloc[0,9])\n",
        "print(df1.iloc[0,1][-5])\n",
        "\n",
        "for i in range(len(df1)):\n",
        "  #print(i)\n",
        "  #if df1.iloc[i,1][-5]=='B' or df1.iloc[i,1][-5]=='b' or df1.iloc[i,1][-5]=='G' or df1.iloc[i,1][-5]=='g':\n",
        "  #  res2[dic[df1.iloc[i,1]],dic[df1.iloc[i,2]]]=res2[dic[df1.iloc[i,1]],dic[df1.iloc[i,2]]]+1\n",
        "  #else:\n",
        "  #  res1[dic[df1.iloc[i,1]],dic[df1.iloc[i,2]]]=res1[dic[df1.iloc[i,1]],dic[df1.iloc[i,2]]]+1\n",
        "  if df1.iloc[i,11]==1:\n",
        "    continue\n",
        "  if df1.iloc[i,1][-5]=='f' or df1.iloc[i,1][-5]=='F' or df1.iloc[i,1][-5]=='M' or df1.iloc[i,1][-5]=='m':\n",
        "    res2[dic[df1.iloc[i,3]],dic[df1.iloc[i,9]]]=res2[dic[df1.iloc[i,3]],dic[df1.iloc[i,9]]]+1\n",
        "  else:\n",
        "    res1[dic[df1.iloc[i,3]],dic[df1.iloc[i,9]]]=res1[dic[df1.iloc[i,3]],dic[df1.iloc[i,9]]]+1\n",
        "\n",
        "\n",
        "\n",
        "print(len(df1))\n",
        "print(res1)\n",
        "print(sum(res1))\n",
        "print(res2)\n",
        "print(sum(res2))"
      ],
      "metadata": {
        "colab": {
          "base_uri": "https://localhost:8080/",
          "height": 748
        },
        "id": "NeoDB3kOWMeJ",
        "outputId": "a9d548b7-20d5-4fa2-e591-50e12c9cc65a"
      },
      "execution_count": null,
      "outputs": [
        {
          "output_type": "stream",
          "name": "stderr",
          "text": [
            "<ipython-input-1-1594ddbfd9b3>:13: DeprecationWarning: `np.int` is a deprecated alias for the builtin `int`. To silence this warning, use `int` by itself. Doing this will not modify any behavior and is safe. When replacing `np.int`, you may wish to use e.g. `np.int64` or `np.int32` to specify the precision. If you wish to review your current use, check the release note link for additional information.\n",
            "Deprecated in NumPy 1.20; for more details and guidance: https://numpy.org/devdocs/release/1.20.0-notes.html#deprecations\n",
            "  res1=np.zeros((7,7),dtype=np.int)\n",
            "<ipython-input-1-1594ddbfd9b3>:14: DeprecationWarning: `np.int` is a deprecated alias for the builtin `int`. To silence this warning, use `int` by itself. Doing this will not modify any behavior and is safe. When replacing `np.int`, you may wish to use e.g. `np.int64` or `np.int32` to specify the precision. If you wish to review your current use, check the release note link for additional information.\n",
            "Deprecated in NumPy 1.20; for more details and guidance: https://numpy.org/devdocs/release/1.20.0-notes.html#deprecations\n",
            "  res2=np.zeros((7,7),dtype=np.int)\n"
          ]
        },
        {
          "output_type": "stream",
          "name": "stdout",
          "text": [
            "Unnamed: 0                              0\n",
            "0             2022002C0103102022_101g.wav\n",
            "1                                 neutral\n",
            "GT                                neutral\n",
            "DB                                   fear\n",
            "sa                                  angry\n",
            "ra                                   fear\n",
            "iemo                                angry\n",
            "Unnamed: 8                            NaN\n",
            "sa2                               neutral\n",
            "Name: 0, dtype: object\n",
            "neutral\n",
            "neutral\n",
            "g\n"
          ]
        },
        {
          "output_type": "error",
          "ename": "IndexError",
          "evalue": "ignored",
          "traceback": [
            "\u001b[0;31m---------------------------------------------------------------------------\u001b[0m",
            "\u001b[0;31mIndexError\u001b[0m                                Traceback (most recent call last)",
            "\u001b[0;32m<ipython-input-1-1594ddbfd9b3>\u001b[0m in \u001b[0;36m<cell line: 22>\u001b[0;34m()\u001b[0m\n\u001b[1;32m     26\u001b[0m   \u001b[0;31m#else:\u001b[0m\u001b[0;34m\u001b[0m\u001b[0;34m\u001b[0m\u001b[0m\n\u001b[1;32m     27\u001b[0m   \u001b[0;31m#  res1[dic[df1.iloc[i,1]],dic[df1.iloc[i,2]]]=res1[dic[df1.iloc[i,1]],dic[df1.iloc[i,2]]]+1\u001b[0m\u001b[0;34m\u001b[0m\u001b[0;34m\u001b[0m\u001b[0m\n\u001b[0;32m---> 28\u001b[0;31m   \u001b[0;32mif\u001b[0m \u001b[0mdf1\u001b[0m\u001b[0;34m.\u001b[0m\u001b[0miloc\u001b[0m\u001b[0;34m[\u001b[0m\u001b[0mi\u001b[0m\u001b[0;34m,\u001b[0m\u001b[0;36m11\u001b[0m\u001b[0;34m]\u001b[0m\u001b[0;34m==\u001b[0m\u001b[0;36m1\u001b[0m\u001b[0;34m:\u001b[0m\u001b[0;34m\u001b[0m\u001b[0;34m\u001b[0m\u001b[0m\n\u001b[0m\u001b[1;32m     29\u001b[0m     \u001b[0;32mcontinue\u001b[0m\u001b[0;34m\u001b[0m\u001b[0;34m\u001b[0m\u001b[0m\n\u001b[1;32m     30\u001b[0m   \u001b[0;32mif\u001b[0m \u001b[0mdf1\u001b[0m\u001b[0;34m.\u001b[0m\u001b[0miloc\u001b[0m\u001b[0;34m[\u001b[0m\u001b[0mi\u001b[0m\u001b[0;34m,\u001b[0m\u001b[0;36m1\u001b[0m\u001b[0;34m]\u001b[0m\u001b[0;34m[\u001b[0m\u001b[0;34m-\u001b[0m\u001b[0;36m5\u001b[0m\u001b[0;34m]\u001b[0m\u001b[0;34m==\u001b[0m\u001b[0;34m'f'\u001b[0m \u001b[0;32mor\u001b[0m \u001b[0mdf1\u001b[0m\u001b[0;34m.\u001b[0m\u001b[0miloc\u001b[0m\u001b[0;34m[\u001b[0m\u001b[0mi\u001b[0m\u001b[0;34m,\u001b[0m\u001b[0;36m1\u001b[0m\u001b[0;34m]\u001b[0m\u001b[0;34m[\u001b[0m\u001b[0;34m-\u001b[0m\u001b[0;36m5\u001b[0m\u001b[0;34m]\u001b[0m\u001b[0;34m==\u001b[0m\u001b[0;34m'F'\u001b[0m \u001b[0;32mor\u001b[0m \u001b[0mdf1\u001b[0m\u001b[0;34m.\u001b[0m\u001b[0miloc\u001b[0m\u001b[0;34m[\u001b[0m\u001b[0mi\u001b[0m\u001b[0;34m,\u001b[0m\u001b[0;36m1\u001b[0m\u001b[0;34m]\u001b[0m\u001b[0;34m[\u001b[0m\u001b[0;34m-\u001b[0m\u001b[0;36m5\u001b[0m\u001b[0;34m]\u001b[0m\u001b[0;34m==\u001b[0m\u001b[0;34m'M'\u001b[0m \u001b[0;32mor\u001b[0m \u001b[0mdf1\u001b[0m\u001b[0;34m.\u001b[0m\u001b[0miloc\u001b[0m\u001b[0;34m[\u001b[0m\u001b[0mi\u001b[0m\u001b[0;34m,\u001b[0m\u001b[0;36m1\u001b[0m\u001b[0;34m]\u001b[0m\u001b[0;34m[\u001b[0m\u001b[0;34m-\u001b[0m\u001b[0;36m5\u001b[0m\u001b[0;34m]\u001b[0m\u001b[0;34m==\u001b[0m\u001b[0;34m'm'\u001b[0m\u001b[0;34m:\u001b[0m\u001b[0;34m\u001b[0m\u001b[0;34m\u001b[0m\u001b[0m\n",
            "\u001b[0;32m/usr/local/lib/python3.10/dist-packages/pandas/core/indexing.py\u001b[0m in \u001b[0;36m__getitem__\u001b[0;34m(self, key)\u001b[0m\n\u001b[1;32m   1064\u001b[0m             \u001b[0mkey\u001b[0m \u001b[0;34m=\u001b[0m \u001b[0mtuple\u001b[0m\u001b[0;34m(\u001b[0m\u001b[0mcom\u001b[0m\u001b[0;34m.\u001b[0m\u001b[0mapply_if_callable\u001b[0m\u001b[0;34m(\u001b[0m\u001b[0mx\u001b[0m\u001b[0;34m,\u001b[0m \u001b[0mself\u001b[0m\u001b[0;34m.\u001b[0m\u001b[0mobj\u001b[0m\u001b[0;34m)\u001b[0m \u001b[0;32mfor\u001b[0m \u001b[0mx\u001b[0m \u001b[0;32min\u001b[0m \u001b[0mkey\u001b[0m\u001b[0;34m)\u001b[0m\u001b[0;34m\u001b[0m\u001b[0;34m\u001b[0m\u001b[0m\n\u001b[1;32m   1065\u001b[0m             \u001b[0;32mif\u001b[0m \u001b[0mself\u001b[0m\u001b[0;34m.\u001b[0m\u001b[0m_is_scalar_access\u001b[0m\u001b[0;34m(\u001b[0m\u001b[0mkey\u001b[0m\u001b[0;34m)\u001b[0m\u001b[0;34m:\u001b[0m\u001b[0;34m\u001b[0m\u001b[0;34m\u001b[0m\u001b[0m\n\u001b[0;32m-> 1066\u001b[0;31m                 \u001b[0;32mreturn\u001b[0m \u001b[0mself\u001b[0m\u001b[0;34m.\u001b[0m\u001b[0mobj\u001b[0m\u001b[0;34m.\u001b[0m\u001b[0m_get_value\u001b[0m\u001b[0;34m(\u001b[0m\u001b[0;34m*\u001b[0m\u001b[0mkey\u001b[0m\u001b[0;34m,\u001b[0m \u001b[0mtakeable\u001b[0m\u001b[0;34m=\u001b[0m\u001b[0mself\u001b[0m\u001b[0;34m.\u001b[0m\u001b[0m_takeable\u001b[0m\u001b[0;34m)\u001b[0m\u001b[0;34m\u001b[0m\u001b[0;34m\u001b[0m\u001b[0m\n\u001b[0m\u001b[1;32m   1067\u001b[0m             \u001b[0;32mreturn\u001b[0m \u001b[0mself\u001b[0m\u001b[0;34m.\u001b[0m\u001b[0m_getitem_tuple\u001b[0m\u001b[0;34m(\u001b[0m\u001b[0mkey\u001b[0m\u001b[0;34m)\u001b[0m\u001b[0;34m\u001b[0m\u001b[0;34m\u001b[0m\u001b[0m\n\u001b[1;32m   1068\u001b[0m         \u001b[0;32melse\u001b[0m\u001b[0;34m:\u001b[0m\u001b[0;34m\u001b[0m\u001b[0;34m\u001b[0m\u001b[0m\n",
            "\u001b[0;32m/usr/local/lib/python3.10/dist-packages/pandas/core/frame.py\u001b[0m in \u001b[0;36m_get_value\u001b[0;34m(self, index, col, takeable)\u001b[0m\n\u001b[1;32m   3912\u001b[0m         \"\"\"\n\u001b[1;32m   3913\u001b[0m         \u001b[0;32mif\u001b[0m \u001b[0mtakeable\u001b[0m\u001b[0;34m:\u001b[0m\u001b[0;34m\u001b[0m\u001b[0;34m\u001b[0m\u001b[0m\n\u001b[0;32m-> 3914\u001b[0;31m             \u001b[0mseries\u001b[0m \u001b[0;34m=\u001b[0m \u001b[0mself\u001b[0m\u001b[0;34m.\u001b[0m\u001b[0m_ixs\u001b[0m\u001b[0;34m(\u001b[0m\u001b[0mcol\u001b[0m\u001b[0;34m,\u001b[0m \u001b[0maxis\u001b[0m\u001b[0;34m=\u001b[0m\u001b[0;36m1\u001b[0m\u001b[0;34m)\u001b[0m\u001b[0;34m\u001b[0m\u001b[0;34m\u001b[0m\u001b[0m\n\u001b[0m\u001b[1;32m   3915\u001b[0m             \u001b[0;32mreturn\u001b[0m \u001b[0mseries\u001b[0m\u001b[0;34m.\u001b[0m\u001b[0m_values\u001b[0m\u001b[0;34m[\u001b[0m\u001b[0mindex\u001b[0m\u001b[0;34m]\u001b[0m\u001b[0;34m\u001b[0m\u001b[0;34m\u001b[0m\u001b[0m\n\u001b[1;32m   3916\u001b[0m \u001b[0;34m\u001b[0m\u001b[0m\n",
            "\u001b[0;32m/usr/local/lib/python3.10/dist-packages/pandas/core/frame.py\u001b[0m in \u001b[0;36m_ixs\u001b[0;34m(self, i, axis)\u001b[0m\n\u001b[1;32m   3726\u001b[0m         \u001b[0;31m# icol\u001b[0m\u001b[0;34m\u001b[0m\u001b[0;34m\u001b[0m\u001b[0m\n\u001b[1;32m   3727\u001b[0m         \u001b[0;32melse\u001b[0m\u001b[0;34m:\u001b[0m\u001b[0;34m\u001b[0m\u001b[0;34m\u001b[0m\u001b[0m\n\u001b[0;32m-> 3728\u001b[0;31m             \u001b[0mlabel\u001b[0m \u001b[0;34m=\u001b[0m \u001b[0mself\u001b[0m\u001b[0;34m.\u001b[0m\u001b[0mcolumns\u001b[0m\u001b[0;34m[\u001b[0m\u001b[0mi\u001b[0m\u001b[0;34m]\u001b[0m\u001b[0;34m\u001b[0m\u001b[0;34m\u001b[0m\u001b[0m\n\u001b[0m\u001b[1;32m   3729\u001b[0m \u001b[0;34m\u001b[0m\u001b[0m\n\u001b[1;32m   3730\u001b[0m             \u001b[0mcol_mgr\u001b[0m \u001b[0;34m=\u001b[0m \u001b[0mself\u001b[0m\u001b[0;34m.\u001b[0m\u001b[0m_mgr\u001b[0m\u001b[0;34m.\u001b[0m\u001b[0miget\u001b[0m\u001b[0;34m(\u001b[0m\u001b[0mi\u001b[0m\u001b[0;34m)\u001b[0m\u001b[0;34m\u001b[0m\u001b[0;34m\u001b[0m\u001b[0m\n",
            "\u001b[0;32m/usr/local/lib/python3.10/dist-packages/pandas/core/indexes/base.py\u001b[0m in \u001b[0;36m__getitem__\u001b[0;34m(self, key)\u001b[0m\n\u001b[1;32m   5318\u001b[0m             \u001b[0;31m# GH#44051 exclude bool, which would return a 2d ndarray\u001b[0m\u001b[0;34m\u001b[0m\u001b[0;34m\u001b[0m\u001b[0m\n\u001b[1;32m   5319\u001b[0m             \u001b[0mkey\u001b[0m \u001b[0;34m=\u001b[0m \u001b[0mcom\u001b[0m\u001b[0;34m.\u001b[0m\u001b[0mcast_scalar_indexer\u001b[0m\u001b[0;34m(\u001b[0m\u001b[0mkey\u001b[0m\u001b[0;34m,\u001b[0m \u001b[0mwarn_float\u001b[0m\u001b[0;34m=\u001b[0m\u001b[0;32mTrue\u001b[0m\u001b[0;34m)\u001b[0m\u001b[0;34m\u001b[0m\u001b[0;34m\u001b[0m\u001b[0m\n\u001b[0;32m-> 5320\u001b[0;31m             \u001b[0;32mreturn\u001b[0m \u001b[0mgetitem\u001b[0m\u001b[0;34m(\u001b[0m\u001b[0mkey\u001b[0m\u001b[0;34m)\u001b[0m\u001b[0;34m\u001b[0m\u001b[0;34m\u001b[0m\u001b[0m\n\u001b[0m\u001b[1;32m   5321\u001b[0m \u001b[0;34m\u001b[0m\u001b[0m\n\u001b[1;32m   5322\u001b[0m         \u001b[0;32mif\u001b[0m \u001b[0misinstance\u001b[0m\u001b[0;34m(\u001b[0m\u001b[0mkey\u001b[0m\u001b[0;34m,\u001b[0m \u001b[0mslice\u001b[0m\u001b[0;34m)\u001b[0m\u001b[0;34m:\u001b[0m\u001b[0;34m\u001b[0m\u001b[0;34m\u001b[0m\u001b[0m\n",
            "\u001b[0;31mIndexError\u001b[0m: index 11 is out of bounds for axis 0 with size 10"
          ]
        }
      ]
    },
    {
      "cell_type": "code",
      "source": [
        "dic={\"neutral\":0,\n",
        "     \"angry\":1,\n",
        "     \"sad\":2,\n",
        "     \"fear\":3,\n",
        "     \"ps\":4,\n",
        "     \"happy\":5,\n",
        "     \"disgust\":6,\n",
        "     \"surprise\":4,\n",
        "     \"neutral/surprise\":0}\n",
        "\n",
        "import numpy as np\n",
        "import pandas as pd\n",
        "res1=np.zeros((7,7),dtype=np.int)\n",
        "res2=np.zeros((7,7),dtype=np.int)\n",
        "xls = pd.ExcelFile('001family.xlsx')\n",
        "df1 = pd.read_excel(xls, 'Sheet1')\n",
        "print(df1.iloc[0,:])\n",
        "print(df1.iloc[0,3])\n",
        "print(df1.iloc[0,9])\n",
        "print(df1.iloc[0,1][-5])\n",
        "\n",
        "for i in range(len(df1)):\n",
        "  #print(i)\n",
        "  #if df1.iloc[i,1][-5]=='B' or df1.iloc[i,1][-5]=='b' or df1.iloc[i,1][-5]=='G' or df1.iloc[i,1][-5]=='g':\n",
        "  #  res2[dic[df1.iloc[i,1]],dic[df1.iloc[i,2]]]=res2[dic[df1.iloc[i,1]],dic[df1.iloc[i,2]]]+1\n",
        "  #else:\n",
        "  #  res1[dic[df1.iloc[i,1]],dic[df1.iloc[i,2]]]=res1[dic[df1.iloc[i,1]],dic[df1.iloc[i,2]]]+1\n",
        "  #if df1.iloc[i,11]=='1':\n",
        "    #continue\n",
        "  if df1.iloc[i,1][-5]=='f' or df1.iloc[i,1][-5]=='F' or df1.iloc[i,1][-5]=='M' or df1.iloc[i,1][-5]=='m':\n",
        "    res2[dic[df1.iloc[i,3]],dic[df1.iloc[i,9]]]=res2[dic[df1.iloc[i,3]],dic[df1.iloc[i,9]]]+1\n",
        "  else:\n",
        "    res1[dic[df1.iloc[i,3]],dic[df1.iloc[i,9]]]=res1[dic[df1.iloc[i,3]],dic[df1.iloc[i,9]]]+1\n",
        "\n",
        "\n",
        "\n",
        "print(len(df1))\n",
        "print(res1)\n",
        "print(sum(res1))\n",
        "print(res2)\n",
        "print(sum(res2))"
      ],
      "metadata": {
        "colab": {
          "base_uri": "https://localhost:8080/"
        },
        "id": "kZFRticVnYPE",
        "outputId": "2b1c6181-868d-48c5-a502-2cd35a938866"
      },
      "execution_count": null,
      "outputs": [
        {
          "output_type": "stream",
          "name": "stderr",
          "text": [
            "<ipython-input-7-f87ed85e5ab9>:13: DeprecationWarning: `np.int` is a deprecated alias for the builtin `int`. To silence this warning, use `int` by itself. Doing this will not modify any behavior and is safe. When replacing `np.int`, you may wish to use e.g. `np.int64` or `np.int32` to specify the precision. If you wish to review your current use, check the release note link for additional information.\n",
            "Deprecated in NumPy 1.20; for more details and guidance: https://numpy.org/devdocs/release/1.20.0-notes.html#deprecations\n",
            "  res1=np.zeros((7,7),dtype=np.int)\n",
            "<ipython-input-7-f87ed85e5ab9>:14: DeprecationWarning: `np.int` is a deprecated alias for the builtin `int`. To silence this warning, use `int` by itself. Doing this will not modify any behavior and is safe. When replacing `np.int`, you may wish to use e.g. `np.int64` or `np.int32` to specify the precision. If you wish to review your current use, check the release note link for additional information.\n",
            "Deprecated in NumPy 1.20; for more details and guidance: https://numpy.org/devdocs/release/1.20.0-notes.html#deprecations\n",
            "  res2=np.zeros((7,7),dtype=np.int)\n"
          ]
        },
        {
          "output_type": "stream",
          "name": "stdout",
          "text": [
            "Unnamed: 0                              0\n",
            "0              2022001C0102262022_0_f.wav\n",
            "1                                     sad\n",
            "GT                                neutral\n",
            "DB                                  happy\n",
            "sa                               surprise\n",
            "ra                                  angry\n",
            "iemo                                angry\n",
            "Unnamed: 8                            NaN\n",
            "sa.1                              neutral\n",
            "Unnamed: 10                           NaN\n",
            "Unnamed: 11                           NaN\n",
            "Name: 0, dtype: object\n",
            "neutral\n",
            "neutral\n",
            "f\n",
            "949\n",
            "[[148  45   0   0  41  72   0]\n",
            " [  1   2   0   0   2   0   0]\n",
            " [  7   1   0   0   0   0   0]\n",
            " [ 41   5   0   0   2  36   2]\n",
            " [ 11   6   0   0   1  21   0]\n",
            " [  3   0   0   0   1   3   0]\n",
            " [  5   3   0   0   1   0   0]]\n",
            "[216  62   0   0  48 132   2]\n",
            "[[203  52   0   0  31 110   0]\n",
            " [  2   3   0   1   5   1   0]\n",
            " [  2   0   0   0   0   2   0]\n",
            " [ 14   1   0   1   0  18   0]\n",
            " [ 14   7   0   0   0  12   0]\n",
            " [  4   3   0   0   0   2   0]\n",
            " [  0   0   0   0   1   0   0]]\n",
            "[239  66   0   2  37 145   0]\n"
          ]
        }
      ]
    },
    {
      "cell_type": "code",
      "source": [
        "dic={\"neutral\":0,\n",
        "     \"angry\":1,\n",
        "     \"sad\":2,\n",
        "     \"fear\":3,\n",
        "     \"ps\":4,\n",
        "     \"happy\":5,\n",
        "     \"disgust\":6,\n",
        "     \"surprise\":4,\n",
        "     \"neutral/surprise\":0}\n",
        "\n",
        "import numpy as np\n",
        "import pandas as pd\n",
        "res1=np.zeros((7,7),dtype=np.int)\n",
        "res2=np.zeros((7,7),dtype=np.int)\n",
        "xls = pd.ExcelFile('003family_1.xlsx')\n",
        "df1 = pd.read_excel(xls, 'Sheet1')\n",
        "print(df1.iloc[0,:])\n",
        "print(df1.iloc[0,5])\n",
        "print(df1.iloc[0,9])\n",
        "print(df1.iloc[0,1][-5])\n",
        "\n",
        "for i in range(len(df1)):\n",
        "  #print(i)\n",
        "  #if df1.iloc[i,1][-5]=='B' or df1.iloc[i,1][-5]=='b' or df1.iloc[i,1][-5]=='G' or df1.iloc[i,1][-5]=='g':\n",
        "  #  res2[dic[df1.iloc[i,1]],dic[df1.iloc[i,2]]]=res2[dic[df1.iloc[i,1]],dic[df1.iloc[i,2]]]+1\n",
        "  #else:\n",
        "  #  res1[dic[df1.iloc[i,1]],dic[df1.iloc[i,2]]]=res1[dic[df1.iloc[i,1]],dic[df1.iloc[i,2]]]+1\n",
        "  if df1.iloc[i,11]=='1':\n",
        "    continue\n",
        "  if df1.iloc[i,1][-5]=='f' or df1.iloc[i,1][-5]=='F' or df1.iloc[i,1][-5]=='M' or df1.iloc[i,1][-5]=='m':\n",
        "    res2[dic[df1.iloc[i,9]],dic[df1.iloc[i,5]]]=res2[dic[df1.iloc[i,9]],dic[df1.iloc[i,5]]]+1\n",
        "  else:\n",
        "    res1[dic[df1.iloc[i,9]],dic[df1.iloc[i,5]]]=res1[dic[df1.iloc[i,9]],dic[df1.iloc[i,5]]]+1\n",
        "\n",
        "\n",
        "\n",
        "print(len(df1))\n",
        "print(res1)\n",
        "print(sum(res1))\n",
        "print(res2)\n",
        "print(sum(res2))"
      ],
      "metadata": {
        "colab": {
          "base_uri": "https://localhost:8080/"
        },
        "id": "jBqVCPBQUZcE",
        "outputId": "7ccbc93d-b038-4a72-d4c3-e1148482f5fa"
      },
      "execution_count": null,
      "outputs": [
        {
          "output_type": "stream",
          "name": "stdout",
          "text": [
            "Unnamed: 0                              0\n",
            "0              2022003C0120220331_10f.wav\n",
            "1                                 neutral\n",
            "GT                                neutral\n",
            "DB                                disgust\n",
            "sa                               surprise\n",
            "ra                                  happy\n",
            "iemo                                angry\n",
            "Unnamed: 8                            NaN\n",
            "GT2                              surprise\n",
            "Unnamed: 10                           NaN\n",
            "Unnamed: 11                           NaN\n",
            "Unnamed: 12                           NaN\n",
            "Unnamed: 13                   false alarm\n",
            "Name: 0, dtype: object\n",
            "surprise\n",
            "surprise\n",
            "f\n",
            "419\n",
            "[[16 13  0  0 13 71  2]\n",
            " [ 0 37  0  0  1  4  0]\n",
            " [ 0  0  0  0  0  0  0]\n",
            " [ 0  0  0  6  0  1  0]\n",
            " [ 0  2  0  1 22  1  0]\n",
            " [ 0  1  0  1  0 60  0]\n",
            " [ 0  0  0  0  0  0  2]]\n",
            "[ 16  53   0   8  36 137   4]\n",
            "[[ 3 12  0  0  9 75  2]\n",
            " [ 0  2  0  0  0  0  0]\n",
            " [ 0  0  0  0  1  0  0]\n",
            " [ 0  0  0  0  0  0  0]\n",
            " [ 0  0  0  0  5  0  0]\n",
            " [ 0  0  0  0  2 53  0]\n",
            " [ 0  0  0  0  0  0  1]]\n",
            "[  3  14   0   0  17 128   3]\n"
          ]
        },
        {
          "output_type": "stream",
          "name": "stderr",
          "text": [
            "<ipython-input-10-4802a97341bc>:13: DeprecationWarning: `np.int` is a deprecated alias for the builtin `int`. To silence this warning, use `int` by itself. Doing this will not modify any behavior and is safe. When replacing `np.int`, you may wish to use e.g. `np.int64` or `np.int32` to specify the precision. If you wish to review your current use, check the release note link for additional information.\n",
            "Deprecated in NumPy 1.20; for more details and guidance: https://numpy.org/devdocs/release/1.20.0-notes.html#deprecations\n",
            "  res1=np.zeros((7,7),dtype=np.int)\n",
            "<ipython-input-10-4802a97341bc>:14: DeprecationWarning: `np.int` is a deprecated alias for the builtin `int`. To silence this warning, use `int` by itself. Doing this will not modify any behavior and is safe. When replacing `np.int`, you may wish to use e.g. `np.int64` or `np.int32` to specify the precision. If you wish to review your current use, check the release note link for additional information.\n",
            "Deprecated in NumPy 1.20; for more details and guidance: https://numpy.org/devdocs/release/1.20.0-notes.html#deprecations\n",
            "  res2=np.zeros((7,7),dtype=np.int)\n"
          ]
        }
      ]
    },
    {
      "cell_type": "code",
      "source": [],
      "metadata": {
        "colab": {
          "base_uri": "https://localhost:8080/"
        },
        "id": "Jih0UE0sX5C3",
        "outputId": "f6fbdc2b-2d3d-4706-9eef-1cce1af7e948"
      },
      "execution_count": null,
      "outputs": [
        {
          "output_type": "stream",
          "name": "stdout",
          "text": [
            "Requirement already satisfied: aspose-words in /usr/local/lib/python3.10/dist-packages (23.9.0)\n"
          ]
        }
      ]
    },
    {
      "cell_type": "code",
      "source": [],
      "metadata": {
        "id": "fxgGH8v0X8fV"
      },
      "execution_count": null,
      "outputs": []
    }
  ]
}